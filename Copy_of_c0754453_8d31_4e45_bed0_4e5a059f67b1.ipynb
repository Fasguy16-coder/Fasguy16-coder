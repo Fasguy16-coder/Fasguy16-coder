{
  "nbformat": 4,
  "nbformat_minor": 0,
  "metadata": {
    "colab": {
      "provenance": [],
      "authorship_tag": "ABX9TyORbxDq+iaMgrZ2PQb6GGRP",
      "include_colab_link": true
    },
    "kernelspec": {
      "name": "python3",
      "display_name": "Python 3"
    },
    "language_info": {
      "name": "python"
    }
  },
  "cells": [
    {
      "cell_type": "markdown",
      "metadata": {
        "id": "view-in-github",
        "colab_type": "text"
      },
      "source": [
        "<a href=\"https://colab.research.google.com/github/Fasguy16-coder/Fasguy16-coder/blob/main/Copy_of_c0754453_8d31_4e45_bed0_4e5a059f67b1.ipynb\" target=\"_parent\"><img src=\"https://colab.research.google.com/assets/colab-badge.svg\" alt=\"Open In Colab\"/></a>"
      ]
    },
    {
      "cell_type": "code",
      "execution_count": null,
      "metadata": {
        "id": "nsaVZaGE9MJG"
      },
      "outputs": [],
      "source": [
        "import numpy as np\n",
        "\n",
        "def customperm(a, b, c):\n",
        "    # Generate a random uniform matrix of shape (a, b) with values in [0, c)\n",
        "    uniform_matrix = np.random.uniform(low=0, high=c, size=(a, b))\n",
        "\n",
        "    # Convert to integers (floor) to get discrete values in [0, c-1]\n",
        "    int_matrix = np.floor(uniform_matrix).astype(int)\n",
        "\n",
        "    # Generate random permutations for each row\n",
        "    perm_matrix = np.array([np.random.permutation(row) for row in int_matrix])\n",
        "\n",
        "    return perm_matrix\n",
        "\n",
        "# Test the function\n",
        "result = customperm(3, 4, 20)\n",
        "print(result)"
      ]
    },
    {
      "cell_type": "markdown",
      "source": [
        "[[ 5 12  3  8]\n",
        " [19  0 14  7]\n",
        " [ 2 11  9 15]]"
      ],
      "metadata": {
        "id": "YYJLpYZi9UWO"
      }
    }
  ]
}